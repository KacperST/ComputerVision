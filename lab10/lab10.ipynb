{
 "cells": [
  {
   "cell_type": "code",
   "execution_count": 1,
   "metadata": {},
   "outputs": [
    {
     "name": "stderr",
     "output_type": "stream",
     "text": [
      "qt.qpa.plugin: Could not find the Qt platform plugin \"wayland\" in \"/home/kacper/semestr_6/ZaawansowaneAlgorytmyWizyjne/venv/lib/python3.10/site-packages/cv2/qt/plugins\"\n"
     ]
    }
   ],
   "source": [
    "import cv2\n",
    "import numpy as np\n",
    "import matplotlib.pyplot as plt\n",
    "\n",
    "kernel = np.ones((3, 3), np.uint8)\n",
    "cap = cv2.VideoCapture('vid1_IR.avi')\n",
    "iPedestrian = 0\n",
    "while (cap.isOpened()):\n",
    "    ret, frame = cap.read()\n",
    "    G = cv2.cvtColor(frame, cv2.COLOR_BGR2GRAY)\n",
    "    ret, B = cv2.threshold(G, 45, 255, cv2.THRESH_BINARY)\n",
    "    median = cv2.medianBlur(B, 5)\n",
    "    Dil = cv2.dilate(median, kernel, iterations=1)\n",
    "    Eros = cv2.erode(Dil, kernel, iterations=1)\n",
    "    connectivity = 4\n",
    "    # Perform the operation\n",
    "    output = cv2.connectedComponentsWithStats(Eros, connectivity, cv2.CV_32S)\n",
    "    # Get the results\n",
    "    # The first cell is the number of labels\n",
    "    num_labels = output[0]\n",
    "    # The second cell is the label matrix\n",
    "    labels = output[1]\n",
    "    # The third cell is the stat matrix\n",
    "    stats = np.matrix(output[2])\n",
    "    # The fourth cell is the centroid matrix\n",
    "    centroids = np.matrix(output[3])\n",
    "    stats1 = np.zeros((1, 5))\n",
    "    stats2 = np.zeros((1, 5))\n",
    "    stats3 = np.zeros((1, 5))\n",
    "    centroids1 = np.zeros((1, 2))\n",
    "    for i in range(stats.shape[0]):\n",
    "        if stats[i,4] > 900 and stats[i,4] < 10000:\n",
    "            stats1 = np.append(stats1, stats[i, :], axis=0)\n",
    "            centroids1 = np.append(centroids1, centroids[i, :], axis=0)\n",
    "    stats = np.matrix(stats1.astype(int))\n",
    "    centroids = np.matrix(centroids1.astype(int))\n",
    "    if stats.shape[0] > 1:\n",
    "        for i in range(stats.shape[0]):\n",
    "            if stats[i, 4] > 0:\n",
    "                stats2 = np.append(stats2, stats[i, :], axis=0)\n",
    "                for j in range(stats.shape[0]):\n",
    "                    if centroids[j, 0] > stats[i, 0] and centroids[j, 0] < stats[i, 0] + stats[i, 2] and i != j:\n",
    "                        tmp = stats[i, :]\n",
    "                        tmp[0,0] = np.min([stats[i, 0], stats[j, 0]])\n",
    "                        tmp[0,1] = np.min([stats[i, 1], stats[j, 1]])\n",
    "                        tmp[0,2] = np.max([stats[i, 2], stats[j, 2]])\n",
    "                        tmp[0,3] = np.sum([stats[i, 3], stats[j, 3]])\n",
    "                        tmp[0,4] = np.sum([stats[i, 4], stats[j, 4]])\n",
    "                        stats2[i, :] = tmp\n",
    "                        stats[j, :] = np.zeros((1, 5))\n",
    "\n",
    "\n",
    "    stats = np.matrix(stats2.astype(int))\n",
    "\n",
    "    if (stats.shape[0] > 1):  # czy sa jakies obiekty\n",
    "        for i in range(stats.shape[0]):\n",
    "            tab = stats[1:, 4]\n",
    "            pi = np.argmax(tab)\n",
    "            pi = pi + 1\n",
    "            a = np.abs(stats[i,2] - stats[i,0])\n",
    "            b = np.abs(stats[i,3] - stats[i,1])\n",
    "            size = a * b\n",
    "            ind = np.zeros(num_labels)\n",
    "            cv2.rectangle(G, (stats[i,0], stats[i,1]), (stats[i,0] + stats[i,2], stats[i,1] + stats[i,3]), (255, 255, 0), 2)\n",
    "            ROI = G[stats[i,1]:stats[i,1] + stats[i,3], stats[i,0]:stats[i,0] + stats[i,2]]\n",
    "            # cv2.imwrite('data1/sample_%06d.png' % iPedestrian, ROI)\n",
    "            iPedestrian += 1\n",
    "\n",
    "    cv2.imshow('IR', G)\n",
    "    if cv2.waitKey(1) & 0xFF == ord('q'):\n",
    "        break\n",
    "cap.release()\n",
    "cv2.destroyAllWindows()"
   ]
  },
  {
   "cell_type": "code",
   "execution_count": null,
   "metadata": {},
   "outputs": [],
   "source": []
  }
 ],
 "metadata": {
  "kernelspec": {
   "display_name": "venv",
   "language": "python",
   "name": "python3"
  },
  "language_info": {
   "codemirror_mode": {
    "name": "ipython",
    "version": 3
   },
   "file_extension": ".py",
   "mimetype": "text/x-python",
   "name": "python",
   "nbconvert_exporter": "python",
   "pygments_lexer": "ipython3",
   "version": "3.10.12"
  }
 },
 "nbformat": 4,
 "nbformat_minor": 2
}
