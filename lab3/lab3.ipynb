{
 "cells": [
  {
   "cell_type": "code",
   "execution_count": 6,
   "metadata": {},
   "outputs": [
    {
     "name": "stdout",
     "output_type": "stream",
     "text": [
      "/home/kacper/semestr_6/ZaawansowaneAlgorytmyWizyjne/lab3\n"
     ]
    }
   ],
   "source": [
    "import cv2\n",
    "import numpy as np\n",
    "import matplotlib.pyplot as plt\n",
    "import os\n",
    "\n",
    "current_dir = os.getcwd()\n",
    "print(current_dir)"
   ]
  },
  {
   "cell_type": "code",
   "execution_count": 7,
   "metadata": {},
   "outputs": [],
   "source": [
    "pedastrian = cv2.imread (f\"{current_dir}/pedestrian/input/in000300.jpg\")\n",
    "yy, xx, _ = pedastrian.shape\n",
    "N = 60\n",
    "iN = 0\n",
    "\n"
   ]
  },
  {
   "cell_type": "code",
   "execution_count": 8,
   "metadata": {},
   "outputs": [],
   "source": [
    "BUF = np . zeros (( yy ,xx ,N) , np . uint8 )"
   ]
  },
  {
   "cell_type": "code",
   "execution_count": 9,
   "metadata": {},
   "outputs": [],
   "source": [
    "def median_and_erote_dilate(I: np.array) -> np.array:\n",
    "    I_copy = I.copy()\n",
    "    I_copy = cv2.medianBlur(I_copy, 5)\n",
    "    kernel = np.ones((5, 5), np.uint8)\n",
    "    I_copy = cv2.dilate(I_copy, kernel)\n",
    "    I_copy = cv2.erode(I_copy, kernel)\n",
    "    return I_copy\n",
    "\n",
    "def calculate_true_positive(I: np.array, I_copy: np.array) -> int:\n",
    "    TP = 0\n",
    "    TP_M = lambda x,y: np.logical_and((x == 255), (y == 255))\n",
    "    TP_S = np.sum(TP_M(I, I_copy)) # sum of the elements in the matrix\n",
    "    TP += TP_S\n",
    "    return TP\n",
    "\n",
    "def calculate_false_negative(I: np.array, I_copy: np.array) -> int:\n",
    "    FN = 0\n",
    "    FN_M = lambda x,y: np.logical_and((x == 255), (y == 0))\n",
    "    FN_S = np.sum(FN_M(I, I_copy)) # sum of the elements in the matrix\n",
    "    FN += FN_S\n",
    "    return FN\n",
    "\n",
    "def calculate_true_negative(I: np.array, I_copy: np.array) -> int:\n",
    "    TN = 0\n",
    "    TN_M = lambda x,y: np.logical_and((x == 0), (y == 0))\n",
    "    TN_S = np.sum(TN_M(I, I_copy)) # sum of the elements in the matrix\n",
    "    TN += TN_S\n",
    "    return TN\n",
    "\n",
    "def calculate_false_positive(I: np.array, I_copy: np.array) -> int:\n",
    "    FP = 0\n",
    "    FP_M = lambda x,y: np.logical_and((x == 0), (y == 255))\n",
    "    FP_S = np.sum(FP_M(I, I_copy)) # sum of the elements in the matrix\n",
    "    FP += FP_S\n",
    "    return FP"
   ]
  },
  {
   "cell_type": "code",
   "execution_count": 24,
   "metadata": {},
   "outputs": [
    {
     "name": "stdout",
     "output_type": "stream",
     "text": [
      "Preicison:  0.6055530452616311\n",
      "Recall:  0.8263851737556103\n",
      "F1:  0.6989408507724824\n"
     ]
    }
   ],
   "source": [
    "# 3.1 srednia\n",
    "import numpy.ma as ma\n",
    "\n",
    "true_positive_array = []\n",
    "false_negative_array = []\n",
    "true_negative_array = []\n",
    "false_positive_array = [] \n",
    "BUF = np.zeros((yy, xx, N), np.uint8)\n",
    "\n",
    "for i in range(300, 999):\n",
    "    I = cv2.imread(f\"{current_dir}/pedestrian/input/in%06d.jpg\" % i )\n",
    "    IG = cv2.cvtColor(I, cv2.COLOR_BGR2GRAY).astype(np.uint8)\n",
    "    BUF[:,:,iN] = IG.astype(np.uint8)\n",
    "\n",
    "    BUF_masked = ma.masked_equal(BUF, 0)\n",
    "\n",
    "    # Calculate the mean only from values different than zeros\n",
    "    mean = BUF_masked.mean(axis=2)\n",
    "\n",
    "    median = ma.median(BUF_masked, axis=2)\n",
    "    iN += 1\n",
    "    if iN == N:\n",
    "        iN = 0\n",
    "\n",
    "    I_diff = cv2.absdiff(IG, mean.astype(np.uint8))\n",
    "    I_diff_binarized = cv2.threshold(I_diff, 30, 255, cv2.THRESH_BINARY)[1]\n",
    "    I_diff_binarized_median = cv2.medianBlur(I_diff_binarized, 5)\n",
    "    I_diff_binarized_dilated = cv2.dilate(I_diff_binarized_median, np.ones((5,5), np.uint8), iterations=1)\n",
    "    I_diff_binarized_eroded = cv2.erode(I_diff_binarized_dilated, np.ones((5,5), np.uint8), iterations=1)\n",
    "    cv2.imshow(\"I_diff_binarized_eroded\", I_diff_binarized_eroded)\n",
    "    cv2.waitKey(1)\n",
    "\n",
    "    groundtruth = cv2.imread (f\"{current_dir}/pedestrian/groundtruth/gt%06d.png\" % i, cv2.IMREAD_GRAYSCALE )\n",
    "    groundtruth_binarized = (groundtruth > 150).astype('uint8') * 255\n",
    "    cv2.imshow(\"groundtruth_binarized\", groundtruth_binarized)\n",
    "    cv2.waitKey(1)\n",
    "    true_positive_array.append(calculate_true_positive(groundtruth_binarized, I_diff_binarized_eroded))\n",
    "    false_negative_array.append(calculate_false_negative(groundtruth_binarized, I_diff_binarized_eroded))\n",
    "    true_negative_array.append(calculate_true_negative(groundtruth_binarized, I_diff_binarized_eroded))\n",
    "    false_positive_array.append(calculate_false_positive(groundtruth_binarized, I_diff_binarized_eroded))\n",
    "\n",
    "precision = np.sum(true_positive_array) / (np.sum(true_positive_array) + np.sum(false_negative_array))\n",
    "print(\"Preicison: \", precision)\n",
    "recall = np.sum(true_positive_array) / (np.sum(true_positive_array) + np.sum(false_positive_array))\n",
    "print(\"Recall: \", recall)\n",
    "f1 = 2 * ((precision * recall) / (precision + recall))\n",
    "print(\"F1: \", f1)\n",
    "    \n",
    "\n",
    "cv2.destroyAllWindows()"
   ]
  },
  {
   "cell_type": "code",
   "execution_count": 25,
   "metadata": {},
   "outputs": [
    {
     "name": "stdout",
     "output_type": "stream",
     "text": [
      "Preicison:  0.5716660342927349\n",
      "Recall:  0.9838920330866348\n",
      "F1:  0.7231586766470487\n"
     ]
    }
   ],
   "source": [
    "# 3.1 mediana\n",
    "true_positive_array = []\n",
    "false_negative_array = []\n",
    "true_negative_array = []\n",
    "false_positive_array = [] \n",
    "BUF = np . zeros (( yy ,xx ,N) , np . uint8 )\n",
    "for i in range(300, 1100):\n",
    "    I = cv2.imread(f\"{current_dir}/pedestrian/input/in%06d.jpg\" % i )\n",
    "    IG = cv2.cvtColor(I, cv2.COLOR_BGR2GRAY).astype(np.uint8)\n",
    "    BUF[:,:,iN] = IG.astype(np.uint8)\n",
    "    \n",
    "    # Create a masked array where the condition is that the values are not equal to zero\n",
    "    BUF_masked = ma.masked_equal(BUF, 0)\n",
    "\n",
    "    # Calculate the mean only from values different than zeros\n",
    "    mean = BUF_masked.mean(axis=2)\n",
    "\n",
    "    median = ma.median(BUF_masked, axis=2)\n",
    "    iN += 1\n",
    "    if iN == N:\n",
    "        iN = 0\n",
    "\n",
    "    I_diff = cv2.absdiff(IG, median.astype(np.uint8))\n",
    "    I_diff_binarized = cv2.threshold(I_diff, 30, 255, cv2.THRESH_BINARY)[1]\n",
    "    I_diff_binarized_median = cv2.medianBlur(I_diff_binarized, 5)\n",
    "    I_diff_binarized_dilated = cv2.dilate(I_diff_binarized_median, np.ones((5,5), np.uint8), iterations=1)\n",
    "    I_diff_binarized_eroded = cv2.erode(I_diff_binarized_dilated, np.ones((5,5), np.uint8), iterations=1)\n",
    "\n",
    "    cv2.imshow(\"I_diff_binarized_eroded\", I_diff_binarized_eroded)\n",
    "    if cv2.waitKey(1) == ord('q'):\n",
    "        break\n",
    "\n",
    "    groundtruth = cv2.imread (f\"{current_dir}/pedestrian/groundtruth/gt%06d.png\" % i, cv2.IMREAD_GRAYSCALE )\n",
    "    groundtruth_binarized = (groundtruth > 150).astype('uint8') * 255\n",
    "    cv2.imshow(\"groundtruth_binarized\", groundtruth_binarized)\n",
    "    if cv2.waitKey(1) == ord('q'):\n",
    "        break\n",
    "    true_positive_array.append(calculate_true_positive(groundtruth_binarized, I_diff_binarized_eroded))\n",
    "    false_negative_array.append(calculate_false_negative(groundtruth_binarized, I_diff_binarized_eroded))\n",
    "    true_negative_array.append(calculate_true_negative(groundtruth_binarized, I_diff_binarized_eroded))\n",
    "    false_positive_array.append(calculate_false_positive(groundtruth_binarized, I_diff_binarized_eroded))\n",
    "\n",
    "precision = np.sum(true_positive_array) / (np.sum(true_positive_array) + np.sum(false_negative_array))\n",
    "print(\"Preicison: \", precision)\n",
    "recall = np.sum(true_positive_array) / (np.sum(true_positive_array) + np.sum(false_positive_array))\n",
    "print(\"Recall: \", recall)\n",
    "f1 = 2 * ((precision * recall) / (precision + recall))\n",
    "print(\"F1: \", f1)\n",
    "    \n",
    "\n",
    "cv2.destroyAllWindows()"
   ]
  },
  {
   "cell_type": "code",
   "execution_count": 26,
   "metadata": {},
   "outputs": [
    {
     "name": "stdout",
     "output_type": "stream",
     "text": [
      "Preicison:  0.5637726135845607\n",
      "Recall:  0.9232080956287702\n",
      "F1:  0.7000486794888013\n"
     ]
    }
   ],
   "source": [
    "#3.2 srednia\n",
    "true_positive_array = []\n",
    "false_negative_array = []\n",
    "true_negative_array = []\n",
    "false_positive_array = [] \n",
    "BG = cv2.imread(f\"{current_dir}/pedestrian/input/in000300.jpg\", cv2.IMREAD_GRAYSCALE).astype(int)\n",
    "for i in range(301, 1100):\n",
    "    I = cv2.imread(f\"{current_dir}/pedestrian/input/in%06d.jpg\" % i )\n",
    "    IG = cv2.cvtColor(I, cv2.COLOR_BGR2GRAY).astype(int)\n",
    "\n",
    "    alfa = 0.03\n",
    "    BG = (alfa * IG + (1 - alfa) * BG).astype(np.float64)\n",
    "\n",
    "\n",
    "    I_diff = cv2.absdiff(IG.astype(np.float64), BG.astype(np.float64)).astype(np.uint8)\n",
    "    I_diff_binarized = cv2.threshold(I_diff, 35, 255, cv2.THRESH_BINARY)[1]\n",
    "    I_diff_binarized_median = cv2.medianBlur(I_diff_binarized, 5).astype(np.uint8)\n",
    "    I_diff_binarized_dilated = cv2.dilate(I_diff_binarized_median, np.ones((5, 5), np.uint8), iterations=1).astype(np.uint8)\n",
    "    I_diff_binarized_eroded = cv2.erode(I_diff_binarized_dilated, np.ones((5,5), np.uint8), iterations=1).astype(np.uint8)\n",
    "    cv2.imshow(\"I_diff_binarized_eroded\", I_diff_binarized_eroded)\n",
    "    cv2.waitKey(1)\n",
    "   \n",
    "\n",
    "    groundtruth = cv2.imread (f\"{current_dir}/pedestrian/groundtruth/gt%06d.png\" % i, cv2.IMREAD_GRAYSCALE )\n",
    "    groundtruth_binarized = (groundtruth > 150).astype('uint8') * 255\n",
    "    cv2.imshow(\"groundtruth_binarized\", groundtruth_binarized)\n",
    "    cv2.waitKey(1)\n",
    "    true_positive_array.append(calculate_true_positive(groundtruth_binarized, I_diff_binarized_eroded))\n",
    "    false_negative_array.append(calculate_false_negative(groundtruth_binarized, I_diff_binarized_eroded))\n",
    "    true_negative_array.append(calculate_true_negative(groundtruth_binarized, I_diff_binarized_eroded))\n",
    "    false_positive_array.append(calculate_false_positive(groundtruth_binarized, I_diff_binarized_eroded))\n",
    "\n",
    "precision = np.sum(true_positive_array) / (np.sum(true_positive_array) + np.sum(false_negative_array))\n",
    "print(\"Preicison: \", precision)\n",
    "recall = np.sum(true_positive_array) / (np.sum(true_positive_array) + np.sum(false_positive_array))\n",
    "print(\"Recall: \", recall)\n",
    "f1 = 2 * ((precision * recall) / (precision + recall))\n",
    "print(\"F1: \", f1)\n",
    "    \n",
    "\n",
    "cv2.destroyAllWindows()"
   ]
  },
  {
   "cell_type": "code",
   "execution_count": 27,
   "metadata": {},
   "outputs": [
    {
     "name": "stdout",
     "output_type": "stream",
     "text": [
      "Preicison:  0.5703946049147168\n",
      "Recall:  0.984319799535558\n",
      "F1:  0.7222557423520354\n"
     ]
    }
   ],
   "source": [
    "#3.2 mediana\n",
    "\n",
    "true_positive_array = []\n",
    "false_negative_array = []\n",
    "true_negative_array = []\n",
    "false_positive_array = [] \n",
    "BG = cv2.imread(f\"{current_dir}/pedestrian/input/in000300.jpg\", cv2.IMREAD_GRAYSCALE).astype(int)\n",
    "for i in range(301, 1100):\n",
    "    I = cv2.imread(f\"{current_dir}/pedestrian/input/in%06d.jpg\" % i )\n",
    "    IG = cv2.cvtColor(I, cv2.COLOR_BGR2GRAY).astype(int)\n",
    "\n",
    "    alfa = 0.03\n",
    "    \n",
    "    BG[np.where(BG > IG)] -= 1\n",
    "    BG[np.where(BG < IG)] += 1\n",
    "    \n",
    "\n",
    "    I_diff = cv2.absdiff(IG.astype(np.uint8), BG.astype(np.uint8))\n",
    "    I_diff_binarized = cv2.threshold(I_diff, 35, 255, cv2.THRESH_BINARY)[1]\n",
    "    I_diff_binarized_median = cv2.medianBlur(I_diff_binarized, 5).astype(np.uint8)\n",
    "    I_diff_binarized_dilated = cv2.dilate(I_diff_binarized_median, np.ones((5, 5), np.uint8), iterations=1).astype(np.uint8)\n",
    "    I_diff_binarized_eroded = cv2.erode(I_diff_binarized_dilated, np.ones((5,5), np.uint8), iterations=1).astype(np.uint8)\n",
    "    cv2.imshow(\"I_diff_binarized_eroded\", I_diff_binarized_eroded)\n",
    "    cv2.waitKey(1)\n",
    "   \n",
    "\n",
    "    groundtruth = cv2.imread (f\"{current_dir}/pedestrian/groundtruth/gt%06d.png\" % i, cv2.IMREAD_GRAYSCALE )\n",
    "    groundtruth_binarized = (groundtruth > 150).astype('uint8') * 255\n",
    "    cv2.imshow(\"groundtruth_binarized\", groundtruth_binarized)\n",
    "    cv2.waitKey(1)\n",
    "    true_positive_array.append(calculate_true_positive(groundtruth_binarized, I_diff_binarized_eroded))\n",
    "    false_negative_array.append(calculate_false_negative(groundtruth_binarized, I_diff_binarized_eroded))\n",
    "    true_negative_array.append(calculate_true_negative(groundtruth_binarized, I_diff_binarized_eroded))\n",
    "    false_positive_array.append(calculate_false_positive(groundtruth_binarized, I_diff_binarized_eroded))\n",
    "\n",
    "precision = np.sum(true_positive_array) / (np.sum(true_positive_array) + np.sum(false_negative_array))\n",
    "print(\"Preicison: \", precision)\n",
    "recall = np.sum(true_positive_array) / (np.sum(true_positive_array) + np.sum(false_positive_array))\n",
    "print(\"Recall: \", recall)\n",
    "f1 = 2 * ((precision * recall) / (precision + recall))\n",
    "print(\"F1: \", f1)\n",
    "    \n",
    "\n",
    "cv2.destroyAllWindows()"
   ]
  },
  {
   "cell_type": "code",
   "execution_count": null,
   "metadata": {},
   "outputs": [],
   "source": []
  },
  {
   "cell_type": "code",
   "execution_count": 28,
   "metadata": {},
   "outputs": [
    {
     "name": "stdout",
     "output_type": "stream",
     "text": [
      "Preicison:  0.6039842851827947\n",
      "Recall:  0.9838461498064794\n",
      "F1:  0.7484774197878694\n"
     ]
    }
   ],
   "source": [
    "\n",
    "# 3.3 polityka konserwatywna - aktualizacja tla\n",
    "\n",
    "true_positive_array = []\n",
    "false_negative_array = []\n",
    "true_negative_array = []\n",
    "false_positive_array = [] \n",
    "BG = cv2.imread(f\"{current_dir}/pedestrian/input/in000300.jpg\", cv2.IMREAD_GRAYSCALE).astype(np.float64)\n",
    "mask = np.zeros_like(BG)\n",
    "\n",
    "for i in range(301, 1100):\n",
    "    I = cv2.imread(f\"{current_dir}/pedestrian/input/in%06d.jpg\" % i )\n",
    "    IG = cv2.cvtColor(I, cv2.COLOR_BGR2GRAY).astype(int)\n",
    "    alfa = 0.03\n",
    "    BG = np.where(mask == 0, BG, alfa * IG + (1 - alfa) * BG)\n",
    "\n",
    "    I_diff = cv2.absdiff(IG.astype(np.uint8), BG.astype(np.uint8)).astype(np.uint8)\n",
    "    I_diff_binarized = cv2.threshold(I_diff, 35, 255, cv2.THRESH_BINARY)[1]\n",
    "    I_diff_binarized_median = cv2.medianBlur(I_diff_binarized, 5).astype(np.uint8)\n",
    "    I_diff_binarized_dilated = cv2.dilate(I_diff_binarized_median, np.ones((5, 5), np.uint8), iterations=1).astype(np.uint8)\n",
    "    I_diff_binarized_eroded = cv2.erode(I_diff_binarized_dilated, np.ones((5,5), np.uint8), iterations=1).astype(np.uint8)\n",
    "    cv2.imshow(\"I_diff_binarized_eroded\", I_diff_binarized_eroded)\n",
    "    cv2.waitKey(1)\n",
    "\n",
    "\n",
    "    groundtruth = cv2.imread (f\"{current_dir}/pedestrian/groundtruth/gt%06d.png\" % i, cv2.IMREAD_GRAYSCALE )\n",
    "    groundtruth_binarized = (groundtruth > 150).astype('uint8') * 255\n",
    "    cv2.imshow(\"groundtruth_binarized\", groundtruth_binarized)\n",
    "    \n",
    "    true_positive_array.append(calculate_true_positive(groundtruth_binarized, I_diff_binarized_eroded))\n",
    "    false_negative_array.append(calculate_false_negative(groundtruth_binarized, I_diff_binarized_eroded))\n",
    "    true_negative_array.append(calculate_true_negative(groundtruth_binarized, I_diff_binarized_eroded))\n",
    "    false_positive_array.append(calculate_false_positive(groundtruth_binarized, I_diff_binarized_eroded))\n",
    "\n",
    "precision = np.sum(true_positive_array) / (np.sum(true_positive_array) + np.sum(false_negative_array))\n",
    "print(\"Preicison: \", precision)\n",
    "recall = np.sum(true_positive_array) / (np.sum(true_positive_array) + np.sum(false_positive_array))\n",
    "print(\"Recall: \", recall)\n",
    "f1 = 2 * ((precision * recall) / (precision + recall))\n",
    "print(\"F1: \", f1)\n",
    "    \n",
    "\n",
    "cv2.destroyAllWindows()"
   ]
  },
  {
   "cell_type": "code",
   "execution_count": 29,
   "metadata": {},
   "outputs": [
    {
     "name": "stdout",
     "output_type": "stream",
     "text": [
      "Preicison:  0.7810700028951062\n",
      "Recall:  0.8502020654329843\n",
      "F1:  0.814171152197532\n"
     ]
    }
   ],
   "source": [
    "# 3.4 GMM / MOG\n",
    "\n",
    "true_positive_array = []\n",
    "false_negative_array = []\n",
    "true_negative_array = []\n",
    "false_positive_array = []\n",
    "history = 64\n",
    "threshold = 64\n",
    "detect_shadow = False\n",
    "fgbg = cv2.createBackgroundSubtractorMOG2(history=history, varThreshold=threshold, detectShadows=detect_shadow)\n",
    "for i in range(301, 1100):\n",
    "    I = cv2.imread(f\"{current_dir}/pedestrian/input/in%06d.jpg\" % i )\n",
    "    fgmask = fgbg.apply(I, learningRate=0.001)\n",
    "    I_diff_binarized_eroded = fgmask\n",
    "    groundtruth = cv2.imread (f\"{current_dir}/pedestrian/groundtruth/gt%06d.png\" % i, cv2.IMREAD_GRAYSCALE )\n",
    "    groundtruth_binarized = (groundtruth > 150).astype('uint8') * 255\n",
    "    cv2.imshow(\"I_diff_binarized_eroded\", I_diff_binarized_eroded)\n",
    "    cv2.waitKey(1)\n",
    "    cv2.imshow(\"groundtruth_binarized\", groundtruth_binarized)\n",
    "    cv2.waitKey(1)\n",
    "    true_positive_array.append(calculate_true_positive(groundtruth_binarized, I_diff_binarized_eroded))\n",
    "    false_negative_array.append(calculate_false_negative(groundtruth_binarized, I_diff_binarized_eroded))\n",
    "    true_negative_array.append(calculate_true_negative(groundtruth_binarized, I_diff_binarized_eroded))\n",
    "    false_positive_array.append(calculate_false_positive(groundtruth_binarized, I_diff_binarized_eroded))\n",
    "    \n",
    "precision = np.sum(true_positive_array) / (np.sum(true_positive_array) + np.sum(false_negative_array))\n",
    "recall = np.sum(true_positive_array) / (np.sum(true_positive_array) + np.sum(false_positive_array))\n",
    "f1 = 2 * ((precision * recall) / (precision + recall))\n",
    "print(\"Preicison: \", precision)\n",
    "print(\"Recall: \", recall)\n",
    "print(\"F1: \", f1)\n",
    "cv2.destroyAllWindows()"
   ]
  },
  {
   "cell_type": "code",
   "execution_count": 30,
   "metadata": {},
   "outputs": [
    {
     "name": "stdout",
     "output_type": "stream",
     "text": [
      "Preicison:  0.7752261456215804\n",
      "Recall:  0.6705224563652923\n",
      "F1:  0.7190828871443027\n"
     ]
    },
    {
     "ename": "",
     "evalue": "",
     "output_type": "error",
     "traceback": [
      "\u001b[1;31mThe Kernel crashed while executing code in the current cell or a previous cell. \n",
      "\u001b[1;31mPlease review the code in the cell(s) to identify a possible cause of the failure. \n",
      "\u001b[1;31mClick <a href='https://aka.ms/vscodeJupyterKernelCrash'>here</a> for more info. \n",
      "\u001b[1;31mView Jupyter <a href='command:jupyter.viewOutput'>log</a> for further details."
     ]
    }
   ],
   "source": [
    "# 3.5 KNN\n",
    "\n",
    "true_positive_array = []\n",
    "false_negative_array = []\n",
    "true_negative_array = []\n",
    "false_positive_array = []\n",
    "history = 8\n",
    "threshold = 4\n",
    "detect_shadow = False\n",
    "fgbg = cv2.createBackgroundSubtractorKNN()\n",
    "for i in range(301, 1100):\n",
    "    I = cv2.imread(f\"{current_dir}/pedestrian/input/in%06d.jpg\" % i )\n",
    "    fgmask = fgbg.apply(I)\n",
    "    I_diff_binarized_eroded = fgmask\n",
    "    groundtruth = cv2.imread (f\"{current_dir}/pedestrian/groundtruth/gt%06d.png\" % i, cv2.IMREAD_GRAYSCALE )\n",
    "    groundtruth_binarized = (groundtruth > 150).astype('uint8') * 255\n",
    "    cv2.imshow(\"I_diff_binarized_eroded\", I_diff_binarized_eroded)\n",
    "    cv2.waitKey(1)\n",
    "    cv2.imshow(\"groundtruth_binarized\", groundtruth_binarized)\n",
    "    cv2.waitKey(1)\n",
    "    true_positive_array.append(calculate_true_positive(groundtruth_binarized, I_diff_binarized_eroded))\n",
    "    false_negative_array.append(calculate_false_negative(groundtruth_binarized, I_diff_binarized_eroded))\n",
    "    true_negative_array.append(calculate_true_negative(groundtruth_binarized, I_diff_binarized_eroded))\n",
    "    false_positive_array.append(calculate_false_positive(groundtruth_binarized, I_diff_binarized_eroded))\n",
    "    \n",
    "precision = np.sum(true_positive_array) / (np.sum(true_positive_array) + np.sum(false_negative_array))\n",
    "recall = np.sum(true_positive_array) / (np.sum(true_positive_array) + np.sum(false_positive_array))\n",
    "f1 = 2 * ((precision * recall) / (precision + recall))\n",
    "print(\"Preicison: \", precision)\n",
    "print(\"Recall: \", recall)\n",
    "print(\"F1: \", f1)\n",
    "cv2.destroyAllWindows()"
   ]
  },
  {
   "cell_type": "code",
   "execution_count": null,
   "metadata": {},
   "outputs": [],
   "source": []
  }
 ],
 "metadata": {
  "kernelspec": {
   "display_name": "venv",
   "language": "python",
   "name": "python3"
  },
  "language_info": {
   "codemirror_mode": {
    "name": "ipython",
    "version": 3
   },
   "file_extension": ".py",
   "mimetype": "text/x-python",
   "name": "python",
   "nbconvert_exporter": "python",
   "pygments_lexer": "ipython3",
   "version": "3.10.12"
  }
 },
 "nbformat": 4,
 "nbformat_minor": 2
}
