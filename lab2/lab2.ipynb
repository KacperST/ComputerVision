{
 "cells": [
  {
   "cell_type": "code",
   "execution_count": 1,
   "metadata": {},
   "outputs": [
    {
     "data": {
      "text/plain": [
       "'/home/kacper/semestr_6/ZaawansowaneAlgorytmyWizyjne/lab2'"
      ]
     },
     "execution_count": 1,
     "metadata": {},
     "output_type": "execute_result"
    }
   ],
   "source": [
    "import cv2\n",
    "from matplotlib import pyplot as plt\n",
    "import os\n",
    "import numpy as np\n",
    "current_dir = os.getcwd()\n",
    "current_dir"
   ]
  },
  {
   "cell_type": "code",
   "execution_count": 2,
   "metadata": {},
   "outputs": [],
   "source": [
    "def median_and_erote_dilate(I: np.array) -> np.array:\n",
    "    I_copy = I.copy()\n",
    "    I_copy = cv2.medianBlur(I_copy, 5)\n",
    "    kernel = np.ones((5, 5), np.uint8)\n",
    "    I_copy = cv2.dilate(I_copy, kernel)\n",
    "    I_copy = cv2.erode(I_copy, kernel)\n",
    "    return I_copy\n",
    "\n",
    "def calculate_true_positive(I: np.array, I_copy: np.array) -> int:\n",
    "    TP = 0\n",
    "    TP_M = lambda x,y: np.logical_and((x == 255), (y == 255))\n",
    "    TP_S = np.sum(TP_M(I, I_copy)) # sum of the elements in the matrix\n",
    "    TP += TP_S\n",
    "    return TP\n",
    "\n",
    "def calculate_false_negative(I: np.array, I_copy: np.array) -> int:\n",
    "    FN = 0\n",
    "    FN_M = lambda x,y: np.logical_and((x == 255), (y == 0))\n",
    "    FN_S = np.sum(FN_M(I, I_copy)) # sum of the elements in the matrix\n",
    "    FN += FN_S\n",
    "    return FN\n",
    "\n",
    "def calculate_true_negative(I: np.array, I_copy: np.array) -> int:\n",
    "    TN = 0\n",
    "    TN_M = lambda x,y: np.logical_and((x == 0), (y == 0))\n",
    "    TN_S = np.sum(TN_M(I, I_copy)) # sum of the elements in the matrix\n",
    "    TN += TN_S\n",
    "    return TN\n",
    "\n",
    "def calculate_false_positive(I: np.array, I_copy: np.array) -> int:\n",
    "    FP = 0\n",
    "    FP_M = lambda x,y: np.logical_and((x == 0), (y == 255))\n",
    "    FP_S = np.sum(FP_M(I, I_copy)) # sum of the elements in the matrix\n",
    "    FP += FP_S\n",
    "    return FP"
   ]
  },
  {
   "cell_type": "code",
   "execution_count": 15,
   "metadata": {},
   "outputs": [],
   "source": [
    "def pipeline(folder_name: str, threshhold_real: int = 15, threshold_groundtruth:int = 15) -> None:\n",
    "\n",
    "    step =  1\n",
    "    previous = cv2.imread (f\"{current_dir}/{folder_name}/input/in000300.jpg\")\n",
    "    previous = cv2.cvtColor(previous, cv2.COLOR_BGR2GRAY).astype('int')\n",
    "    true_positive_array = []\n",
    "    false_negative_array = []\n",
    "    true_negative_array = []\n",
    "    false_positive_array = []   \n",
    "\n",
    "\n",
    "    for i in range (300 ,1100,step) :\n",
    "        I = cv2.imread (f\"{current_dir}/{folder_name}/input/in%06d.jpg\" % i )\n",
    "        I_gray = cv2.cvtColor(I, cv2.COLOR_BGR2GRAY).astype('int')\n",
    "        I_diff = np.abs(I_gray - previous).astype('uint8')\n",
    "        T, I_binarized = cv2.threshold(I_diff, threshhold_real, 255, cv2.THRESH_BINARY) \n",
    "        I_diff = I_binarized.astype('uint8')\n",
    "        I_diff = median_and_erote_dilate(I_diff).astype('uint8')\n",
    "        retval , labels , stats , centroids = cv2 . connectedComponentsWithStats (I_diff)\n",
    "        cv2.imshow(\"I_diff\", I_diff)\n",
    "\n",
    "        I_VIS = I.copy()\n",
    "        if stats.shape[0] > 1:\n",
    "            tab = stats[1:, 4]\n",
    "            pi = np.argmax(tab)\n",
    "            pi = pi + 1\n",
    "            cv2.rectangle(I_VIS, (stats[pi, 0], stats[pi, 1]), (stats[pi, 0] + stats[pi, 2], stats[pi, 1] + stats[pi, 3]), (255,0, 0), 2)\n",
    "            cv2.putText(I_VIS, f\"#{stats[pi, 4]}\", (stats[pi,0], stats[pi, 1]), cv2.FONT_HERSHEY_SIMPLEX, 0.5, (255, 0, 0))\n",
    "            cv2.putText(I_VIS, f\"#{pi}\", (int(centroids[pi, 0]), int(centroids[pi, 1])), cv2.FONT_HERSHEY_SIMPLEX, 1, (255, 0, 0))\n",
    "        # cv2.imshow(\"I\", I_VIS)\n",
    "        # cv2.waitKey(5)\n",
    "\n",
    "        groundtruth = cv2.imread (f\"{current_dir}/{folder_name}/groundtruth/gt%06d.png\" % i, cv2.IMREAD_GRAYSCALE )\n",
    "        groundtruth_binarized = (groundtruth > threshold_groundtruth).astype('uint8') * 255\n",
    "        # cv2.imshow(\"groundtruth\", groundtruth_binarized)\n",
    "        # cv2.imshow(\"I\", I_VIS)\n",
    "        cv2.waitKey(5)\n",
    "        TP = calculate_true_positive(groundtruth_binarized, I_diff)\n",
    "        FN = calculate_false_negative(groundtruth_binarized, I_diff)\n",
    "        TN = calculate_true_negative(groundtruth_binarized, I_diff)\n",
    "        FP = calculate_false_positive(groundtruth_binarized, I_diff)\n",
    "        true_positive_array.append(TP)\n",
    "        false_negative_array.append(FN)\n",
    "        true_negative_array.append(TN)\n",
    "        false_positive_array.append(FP)\n",
    "        previous = I_gray\n",
    "\n",
    "\n",
    "    cv2.destroyAllWindows()\n",
    "    precision = np.sum(true_positive_array) / (np.sum(true_positive_array) + np.sum(false_negative_array))\n",
    "    print(\"Preicison: \", precision)\n",
    "    recall = np.sum(true_positive_array) / (np.sum(true_positive_array) + np.sum(false_positive_array))\n",
    "    print(\"Recall: \", recall)\n",
    "    f1 = 2 * ((precision * recall) / (precision + recall))\n",
    "    print(\"F1: \", f1)"
   ]
  },
  {
   "cell_type": "code",
   "execution_count": 16,
   "metadata": {},
   "outputs": [
    {
     "name": "stdout",
     "output_type": "stream",
     "text": [
      "Preicison:  0.6665692313891691\n",
      "Recall:  0.7838583701769245\n",
      "F1:  0.7204714951130776\n"
     ]
    }
   ],
   "source": [
    "pipeline(\"pedestrian\", 10, 5)"
   ]
  },
  {
   "cell_type": "code",
   "execution_count": 30,
   "metadata": {},
   "outputs": [
    {
     "name": "stdout",
     "output_type": "stream",
     "text": [
      "Preicison:  0.17535860877698592\n",
      "Recall:  0.9674270754934787\n",
      "F1:  0.296900229652464\n"
     ]
    }
   ],
   "source": [
    "pipeline(\"highway\", 13, 5)"
   ]
  },
  {
   "cell_type": "code",
   "execution_count": 36,
   "metadata": {},
   "outputs": [
    {
     "name": "stdout",
     "output_type": "stream",
     "text": [
      "Preicison:  0.14079558572189144\n",
      "Recall:  0.4562059142321633\n",
      "F1:  0.2151812982347672\n"
     ]
    }
   ],
   "source": [
    "pipeline(\"office\", 10, 5)"
   ]
  },
  {
   "cell_type": "code",
   "execution_count": null,
   "metadata": {},
   "outputs": [],
   "source": []
  }
 ],
 "metadata": {
  "kernelspec": {
   "display_name": "venv",
   "language": "python",
   "name": "python3"
  },
  "language_info": {
   "codemirror_mode": {
    "name": "ipython",
    "version": 3
   },
   "file_extension": ".py",
   "mimetype": "text/x-python",
   "name": "python",
   "nbconvert_exporter": "python",
   "pygments_lexer": "ipython3",
   "version": "3.10.12"
  }
 },
 "nbformat": 4,
 "nbformat_minor": 2
}
